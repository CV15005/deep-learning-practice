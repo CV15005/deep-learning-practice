{
 "cells": [
  {
   "cell_type": "markdown",
   "metadata": {},
   "source": [
    "# Классификация Fashion-MNIST\n",
    "\n",
    "Теперь ваша очередь построить и обучить нейронную сеть. Вы будете использовать [датасет Fashion-MNIST](https://github.com/zalandoresearch/fashion-mnist), который является заменой для набора данных MNIST. MNIST на самом деле довольно тривиален для нейронных сетей, где вы можете легко достичь точности выше 97%. Fashion-MNIST — это набор изображений одежды размером 28x28 пикселей в градациях серого. Он более сложен, чем MNIST, поэтому лучше отражает фактические показатели производительности вашей сети и лучше представляет наборы данных, которые вы будете использовать на практике.\n",
    "\n",
    "<img src='assets/fashion-mnist-sprite.png' width=500px>\n",
    "\n",
    "В этом блокноте вы построите свою собственную нейронную сеть. В основном вы можете просто скопировать и вставить код из блокнота 3, но важно попробовать написать код самим и заставить его работать, чтобы научиться работать с Pytorch. Тем не менее, не стесняйтесь обращаться к предыдущим блокнотам по мере работы над этим заданием.\n",
    "\n",
    "В первую очередь давайте загрузим набор данных через torchvision."
   ]
  },
  {
   "cell_type": "code",
   "execution_count": null,
   "metadata": {},
   "outputs": [],
   "source": [
    "import torch\n",
    "from torchvision import datasets, transforms\n",
    "import helper\n",
    "\n",
    "# Определим преобразование для нормализации данных\n",
    "transform = transforms.Compose([transforms.ToTensor(),\n",
    "                                transforms.Normalize((0.5,), (0.5,))])\n",
    "# Загрузим обучающие данные\n",
    "trainset = datasets.FashionMNIST('~/.pytorch/F_MNIST_data/', download=True, train=True, transform=transform)\n",
    "trainloader = torch.utils.data.DataLoader(trainset, batch_size=64, shuffle=True)\n",
    "\n",
    "# Загрузим тестовые данные\n",
    "testset = datasets.FashionMNIST('~/.pytorch/F_MNIST_data/', download=True, train=False, transform=transform)\n",
    "testloader = torch.utils.data.DataLoader(testset, batch_size=64, shuffle=True)"
   ]
  },
  {
   "cell_type": "markdown",
   "metadata": {},
   "source": [
    "Отобразим одно из изображений."
   ]
  },
  {
   "cell_type": "code",
   "execution_count": null,
   "metadata": {},
   "outputs": [],
   "source": [
    "image, label = next(iter(trainloader))\n",
    "helper.imshow(image[0,:]);"
   ]
  },
  {
   "cell_type": "markdown",
   "metadata": {},
   "source": [
    "## Построение сети\n",
    "\n",
    "Здесь вы должны определить вашу сеть. Как и в случае с MNIST, каждое изображение имеет размер 28x28, что составляет в общей сложности 784 пикселя, и существует 10 классов. Вы должны включить в архитектуру сети как минимум один скрытый слой. Рекомендуется использовать активации ReLU для слоев и возвращать логиты (logits) или логарифмическую софтмакс (log-softmax) после прямого прохода. Вам решать, сколько слоев добавить и какого размера будут эти слои."
   ]
  },
  {
   "cell_type": "code",
   "execution_count": null,
   "metadata": {},
   "outputs": [],
   "source": [
    "from torch import nn, optim\n",
    "import torch.nn.functional as F"
   ]
  },
  {
   "cell_type": "code",
   "execution_count": null,
   "metadata": {},
   "outputs": [],
   "source": [
    "# TODO: Определите архитектуру вашей сети\n"
   ]
  },
  {
   "cell_type": "markdown",
   "metadata": {},
   "source": [
    "# Обучение сети\n",
    "\n",
    "Теперь вы должны создать свою сеть и обучить ее. Сначала вам нужно определить [фукцию потерь (criterion)](http://pytorch.org/docs/master/nn.html#loss-functions) (что-то вроде `nn.CrossEntropyLoss` или `nn.NLLLoss`) и [оптимизатор (optimizer)](http://pytorch.org/docs/master/optim.html) (обычно `optim.SGD` или `optim.Adam`).\n",
    "\n",
    "Затем напишите код для обучения. Помните, что шаг обучения — это довольно простой процесс:\n",
    "\n",
    "* Сделайте прямой проход через сеть, чтобы получить логиты \n",
    "* Используйте логиты для вычисления функции потерь\n",
    "* Выполните обратный проход через сеть с `loss.backward()`, чтобы вычислить градиенты\n",
    "* Сделайте шаг обновления весов с помощью оптимизатора\n",
    "\n",
    "Настраивая гиперпараметры (количество слоев, скорость обучения и т.д.), вы должны получить функцию потерь на обучающей выборке ниже 0,4."
   ]
  },
  {
   "cell_type": "code",
   "execution_count": null,
   "metadata": {},
   "outputs": [],
   "source": [
    "# TODO: Создайте сеть, определите функцию потерь и оптимизатор\n"
   ]
  },
  {
   "cell_type": "code",
   "execution_count": null,
   "metadata": {},
   "outputs": [],
   "source": [
    "# TODO: Обучите сеть\n"
   ]
  },
  {
   "cell_type": "code",
   "execution_count": null,
   "metadata": {},
   "outputs": [],
   "source": [
    "%matplotlib inline\n",
    "%config InlineBackend.figure_format = 'retina'\n",
    "\n",
    "import helper\n",
    "\n",
    "# Проверьте вашу сеть\n",
    "\n",
    "dataiter = iter(testloader)\n",
    "images, labels = next(dataiter)\n",
    "img = images[1]\n",
    "\n",
    "# TODO: Вычислите вероятности классов (softmax) для img\n",
    "ps = \n",
    "\n",
    "# Постройте изображение и вероятности\n",
    "helper.view_classify(img, ps, version='Fashion')"
   ]
  }
 ],
 "metadata": {
  "kernelspec": {
   "display_name": "Python 3 (ipykernel)",
   "language": "python",
   "name": "python3"
  },
  "language_info": {
   "codemirror_mode": {
    "name": "ipython",
    "version": 3
   },
   "file_extension": ".py",
   "mimetype": "text/x-python",
   "name": "python",
   "nbconvert_exporter": "python",
   "pygments_lexer": "ipython3",
   "version": "3.10.15"
  }
 },
 "nbformat": 4,
 "nbformat_minor": 4
}
